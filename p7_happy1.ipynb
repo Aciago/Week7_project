{
 "cells": [
  {
   "cell_type": "markdown",
   "metadata": {},
   "source": [
    "# Unsupervised Learning"
   ]
  },
  {
   "cell_type": "raw",
   "metadata": {},
   "source": [
    "https://github.com/ta-data-par/Jan2020_EverydayCode/tree/master/Week_8/UnsupervisedProject"
   ]
  },
  {
   "cell_type": "markdown",
   "metadata": {},
   "source": [
    "Overview\n",
    "\n",
    "In the past two lessons, you have learned what Unsupervised Machine Learning is, what problems are suitable for a solution based on Unsupervised Machine Learning, how to apply Unsupervised Machine Learning, and you have practiced implementing the basic phases of a solution using Scikit-learn. Now is time to put all that conceptual and procedural knowledge to work by doing a larger project. Choose a problem domain that motivates you, and build a complete solution implementing all the phases you learned about in previous chapters. We provide some ideas of interesting problem domains in a dedicated section in this lesson, but we want you to be creative and adventurous, and explore other options as well. This lesson does not present any new material: everything you will need to complete this project was discussed on previous lessons.\n",
    "External Interface Requirements\n",
    "\n",
    "    Input requirement: capacity to read a dataset stored on disk.\n",
    "    Output requirement: report on optimal number of clusters, centroid coordinates and quality metric.\n",
    "    Output requirement: identifiers of classes corresponding to new instances classified by the model.\n",
    "\n",
    "Functional Requirements\n",
    "\n",
    "    The software must learn a clusterization a the dataset.\n",
    "    The software must use the learned clusterization to classify new problem instances.\n",
    "    The software must evaluate the quality of a clusterization.\n",
    "    The software must be flexible to work with different preconfigured amount of clusters.\n",
    "    The software must compare results using different numbers of clusters and determine which number of clusters is best.\n",
    "\n",
    "Technical Requirements\n",
    "\n",
    "    Use Python as programming language.\n",
    "    Use Pandas for reading the dataset into a Pandas dataframe.\n",
    "    Use Scikit-learn for training and testing the Machine Learning model.\n",
    "\n",
    "Necessary Deliverables\n",
    "\n",
    "    Python application that performs ETL, training, and testing.\n",
    "    Report containing quality metrics, and explanation of the dataset, and the experimental procedure (range of the different number of clusters that were tested, how the range was traversed, etc.).\n",
    "    Optional(Build a supervised model by attaching your labels(clusters) as Target)\n",
    "\n",
    "Suggestions to Get Started\n",
    "\n",
    "    Find an interesting dataset! Look in the Useful Resources section for sources of ideas.\n",
    "    If you do not find a pre-existing dataset on the problem domain that you like, be creative: consider building the dataset yourself and donating the dataset to one of the public Machine Learning repositories.\n",
    "    Break down the project into smaller tasks, for instance: importing the dataset, training, etc.\n",
    "    Decide whether you will create a single Python application or several Python applications.\n",
    "\n",
    "Potential Project Ideas\n",
    "\n",
    "    Segment smartphone users according to phone usage and apps installed.\n",
    "    Segment healthy person under 50 years of age according to their risk or propensity of suffering from Alzheimer's disease after 70 years of age.\n",
    "    Classify differnent customers from an Ecomerce data.\n"
   ]
  },
  {
   "cell_type": "code",
   "execution_count": null,
   "metadata": {},
   "outputs": [],
   "source": [
    "# starting libraries, additional ones will be added when needed\n",
    "\n",
    "import pandas as pd\n",
    "import numpy as np\n",
    "\n",
    "import matplotlib.pyplot as plt\n",
    "import seaborn as sns\n",
    "import plotly\n",
    "\n",
    "%matplotlib inline\n",
    "sns.set()"
   ]
  },
  {
   "cell_type": "code",
   "execution_count": null,
   "metadata": {},
   "outputs": [],
   "source": [
    "# display options\n",
    "\n",
    "pd.options.display.max_columns = None\n",
    "pd.set_option('display.max_rows', 200)"
   ]
  },
  {
   "cell_type": "code",
   "execution_count": null,
   "metadata": {},
   "outputs": [],
   "source": [
    "df = pd.read_csv(r\"C:\\Users\\aciag\\ih\\Week7_project\\data\\happiness\\2019.csv\")"
   ]
  },
  {
   "cell_type": "code",
   "execution_count": null,
   "metadata": {},
   "outputs": [],
   "source": [
    "df.head()"
   ]
  },
  {
   "cell_type": "code",
   "execution_count": null,
   "metadata": {},
   "outputs": [],
   "source": [
    "#df.rename(columns={'iyear':'Year','imonth':'Month','iday':'Day','country_txt':'Country','region_txt':'Region','attacktype1_txt':'AttackType','target1':'Target','nkill':'Killed','nwound':'Wounded','summary':'Summary','gname':'Group','targtype1_txt':'Target_type','weaptype1_txt':'Weapon_type','motive':'Motive'},inplace=True)\n",
    "\n",
    "#df['Victims']=df['Killed']+df['Wounded']\n",
    "#df.head(3)"
   ]
  },
  {
   "cell_type": "code",
   "execution_count": null,
   "metadata": {},
   "outputs": [],
   "source": [
    "df.shape"
   ]
  },
  {
   "cell_type": "code",
   "execution_count": null,
   "metadata": {},
   "outputs": [],
   "source": [
    "df.isna().sum()"
   ]
  },
  {
   "cell_type": "code",
   "execution_count": null,
   "metadata": {},
   "outputs": [],
   "source": [
    "df = df.drop_duplicates()\n",
    "df.shape"
   ]
  },
  {
   "cell_type": "code",
   "execution_count": null,
   "metadata": {},
   "outputs": [],
   "source": []
  },
  {
   "cell_type": "code",
   "execution_count": null,
   "metadata": {},
   "outputs": [],
   "source": []
  },
  {
   "cell_type": "code",
   "execution_count": null,
   "metadata": {},
   "outputs": [],
   "source": []
  },
  {
   "cell_type": "code",
   "execution_count": null,
   "metadata": {},
   "outputs": [],
   "source": []
  }
 ],
 "metadata": {
  "kernelspec": {
   "display_name": "Python 3",
   "language": "python",
   "name": "python3"
  },
  "language_info": {
   "codemirror_mode": {
    "name": "ipython",
    "version": 3
   },
   "file_extension": ".py",
   "mimetype": "text/x-python",
   "name": "python",
   "nbconvert_exporter": "python",
   "pygments_lexer": "ipython3",
   "version": "3.7.6"
  }
 },
 "nbformat": 4,
 "nbformat_minor": 4
}
